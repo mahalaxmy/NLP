{
  "nbformat": 4,
  "nbformat_minor": 0,
  "metadata": {
    "colab": {
      "provenance": [],
      "authorship_tag": "ABX9TyMvnfQrziOIj1RiWrrtIShH",
      "include_colab_link": true
    },
    "kernelspec": {
      "name": "python3",
      "display_name": "Python 3"
    },
    "language_info": {
      "name": "python"
    }
  },
  "cells": [
    {
      "cell_type": "markdown",
      "metadata": {
        "id": "view-in-github",
        "colab_type": "text"
      },
      "source": [
        "<a href=\"https://colab.research.google.com/github/mahalaxmy/NLP/blob/main/Tokenizer_and_dictionary_creation_.ipynb\" target=\"_parent\"><img src=\"https://colab.research.google.com/assets/colab-badge.svg\" alt=\"Open In Colab\"/></a>"
      ]
    },
    {
      "cell_type": "code",
      "execution_count": 12,
      "metadata": {
        "colab": {
          "base_uri": "https://localhost:8080/",
          "height": 0
        },
        "id": "-Al7_61OWGtg",
        "outputId": "ff182809-280a-4ffc-8211-1a1db2bc359d"
      },
      "outputs": [
        {
          "output_type": "stream",
          "name": "stdout",
          "text": [
            "['Galaxies', 'consist', 'of', 'stars', ',', 'planets', ',', 'and', 'vast', 'clouds', 'of', 'gas', 'and', 'dust', ',', 'all', 'bound', 'together', 'by', 'gravity', '.', 'the', 'largest', 'contain', 'trillions', 'of', 'stars', 'and', 'can', 'be', 'more', 'than', 'a', 'million', 'light-years', 'across', '.', 'the', 'smallest', 'can', 'contain', 'a', 'few', 'thousand', 'stars', 'and', 'span', 'just', 'a', 'few', 'hundred', 'light-years', '.', 'Most', 'large', 'galaxies', 'have', 'supermassive', 'black', 'holes', 'at', 'their', 'centers', ',', 'some', 'with', 'billions', 'of', 'times', 'the', 'Sun', '’', 's', 'mass', '.']\n"
          ]
        },
        {
          "output_type": "stream",
          "name": "stderr",
          "text": [
            "[nltk_data] Downloading package punkt to /root/nltk_data...\n",
            "[nltk_data]   Package punkt is already up-to-date!\n"
          ]
        }
      ],
      "source": [
        "from nltk.tokenize import word_tokenize\n",
        "import nltk.data\n",
        "import nltk\n",
        "nltk.download('punkt')\n",
        "nltk.data.load('tokenizers/punkt/english.pickle')\n",
        "\n",
        "text = \"Galaxies consist of stars, planets, and vast clouds of gas and dust, all bound together by gravity. the largest contain trillions of stars and can be more than a million light-years across. the smallest can contain a few thousand stars and span just a few hundred light-years. Most large galaxies have supermassive black holes at their centers, some with billions of times the Sun’s mass.\"\n",
        "tokens = word_tokenize(text)\n",
        "print(tokens)"
      ]
    },
    {
      "cell_type": "code",
      "source": [
        "text1=\"I don't like bananas They're always late This was co-created by my friend This document was signed '12-02-24'\"\n",
        "tokens1=word_tokenize(text1)\n",
        "print(tokens1)\n"
      ],
      "metadata": {
        "colab": {
          "base_uri": "https://localhost:8080/",
          "height": 0
        },
        "id": "zbvehGrNX6K3",
        "outputId": "628c2057-88e5-4d95-f8ec-68e3832bfe89"
      },
      "execution_count": 5,
      "outputs": [
        {
          "output_type": "stream",
          "name": "stdout",
          "text": [
            "['I', 'do', \"n't\", 'like', 'bananas', 'They', \"'re\", 'always', 'late', 'This', 'was', 'co-created', 'by', 'my', 'friend', 'This', 'document', 'was', 'signed', \"'12-02-24\", \"'\"]\n"
          ]
        }
      ]
    },
    {
      "cell_type": "code",
      "source": [
        "text1=\"I don't like bananas They're always late This was co-created by my friend This document was signed '12-02-24'\"\n",
        "tokens1=text1.split()\n",
        "print(tokens1)"
      ],
      "metadata": {
        "colab": {
          "base_uri": "https://localhost:8080/",
          "height": 0
        },
        "id": "YaJAtypWcyCv",
        "outputId": "5462937f-d7d3-4a9d-f25e-0cd762d96f1a"
      },
      "execution_count": 14,
      "outputs": [
        {
          "output_type": "stream",
          "name": "stdout",
          "text": [
            "['I', \"don't\", 'like', 'bananas', \"They're\", 'always', 'late', 'This', 'was', 'co-created', 'by', 'my', 'friend', 'This', 'document', 'was', 'signed', \"'12-02-24'\"]\n"
          ]
        }
      ]
    },
    {
      "cell_type": "code",
      "source": [
        "from keras.preprocessing.text import text_to_word_sequence\n",
        "\n",
        "text1 = \"I don't like bananas They're always late This was co-created by my friend This document was signed '12-02-24'\"\n",
        "\n",
        "tokens1 = text_to_word_sequence(text1)\n",
        "print(tokens1)"
      ],
      "metadata": {
        "colab": {
          "base_uri": "https://localhost:8080/",
          "height": 0
        },
        "id": "wUUF6Y7Haz_3",
        "outputId": "4340e0c5-f2fb-452f-d211-d5ae48144ba1"
      },
      "execution_count": 9,
      "outputs": [
        {
          "output_type": "stream",
          "name": "stdout",
          "text": [
            "['i', \"don't\", 'like', 'bananas', \"they're\", 'always', 'late', 'this', 'was', 'co', 'created', 'by', 'my', 'friend', 'this', 'document', 'was', 'signed', \"'12\", '02', \"24'\"]\n"
          ]
        }
      ]
    },
    {
      "cell_type": "code",
      "source": [
        "text2=\"I don't like bananas\"\n",
        "tokens2 = text_to_word_sequence(text2)\n",
        "print(tokens2)"
      ],
      "metadata": {
        "colab": {
          "base_uri": "https://localhost:8080/"
        },
        "id": "pQidG_pSfr3i",
        "outputId": "9aba0856-9804-4d70-f49f-e51a9923a55e"
      },
      "execution_count": 15,
      "outputs": [
        {
          "output_type": "stream",
          "name": "stdout",
          "text": [
            "['i', \"don't\", 'like', 'bananas']\n"
          ]
        }
      ]
    },
    {
      "cell_type": "code",
      "source": [
        "set(tokens)"
      ],
      "metadata": {
        "colab": {
          "base_uri": "https://localhost:8080/",
          "height": 0
        },
        "id": "VoCSnPywa0Cr",
        "outputId": "023f2ed6-c396-4ac8-8bcd-9e9b4fc33612"
      },
      "execution_count": 13,
      "outputs": [
        {
          "output_type": "execute_result",
          "data": {
            "text/plain": [
              "{',',\n",
              " '.',\n",
              " 'Galaxies',\n",
              " 'Most',\n",
              " 'Sun',\n",
              " 'a',\n",
              " 'across',\n",
              " 'all',\n",
              " 'and',\n",
              " 'at',\n",
              " 'be',\n",
              " 'billions',\n",
              " 'black',\n",
              " 'bound',\n",
              " 'by',\n",
              " 'can',\n",
              " 'centers',\n",
              " 'clouds',\n",
              " 'consist',\n",
              " 'contain',\n",
              " 'dust',\n",
              " 'few',\n",
              " 'galaxies',\n",
              " 'gas',\n",
              " 'gravity',\n",
              " 'have',\n",
              " 'holes',\n",
              " 'hundred',\n",
              " 'just',\n",
              " 'large',\n",
              " 'largest',\n",
              " 'light-years',\n",
              " 'mass',\n",
              " 'million',\n",
              " 'more',\n",
              " 'of',\n",
              " 'planets',\n",
              " 's',\n",
              " 'smallest',\n",
              " 'some',\n",
              " 'span',\n",
              " 'stars',\n",
              " 'supermassive',\n",
              " 'than',\n",
              " 'the',\n",
              " 'their',\n",
              " 'thousand',\n",
              " 'times',\n",
              " 'together',\n",
              " 'trillions',\n",
              " 'vast',\n",
              " 'with',\n",
              " '’'}"
            ]
          },
          "metadata": {},
          "execution_count": 13
        }
      ]
    },
    {
      "cell_type": "code",
      "source": [],
      "metadata": {
        "id": "sVfVbKhpb6_l"
      },
      "execution_count": null,
      "outputs": []
    },
    {
      "cell_type": "markdown",
      "source": [
        "https://livebook.manning.com/book/natural-language-processing-in-action/chapter-2/41"
      ],
      "metadata": {
        "id": "PXl2PX4FbdOv"
      }
    }
  ]
}